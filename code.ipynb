{
 "cells": [
  {
   "cell_type": "code",
   "execution_count": null,
   "id": "8f17a311-a25f-4386-8a02-ed812e291bfb",
   "metadata": {},
   "outputs": [],
   "source": [
    "import tkinter as tk\n",
    "from tkinter import messagebox\n",
    "\n",
    "# Function to add a task to the list\n",
    "def add_task():\n",
    "    task = task_input.get()  # Get the task input\n",
    "    if task != \"\":\n",
    "        task_listbox.insert(tk.END, task)  # Add task to the listbox\n",
    "        task_input.delete(0, tk.END)  # Clear the input field\n",
    "    else:\n",
    "        messagebox.showwarning(\"Input Error\", \"Please enter a task.\")\n",
    "\n",
    "# Function to remove a task from the list\n",
    "def remove_task():\n",
    "    try:\n",
    "        selected_task_index = task_listbox.curselection()  # Get the selected task index\n",
    "        task_listbox.delete(selected_task_index)  # Delete the selected task\n",
    "    except IndexError:\n",
    "        messagebox.showwarning(\"Selection Error\", \"Please select a task to remove.\")\n",
    "\n",
    "# Function to mark a task as completed (strike-through)\n",
    "def complete_task():\n",
    "    try:\n",
    "        selected_task_index = task_listbox.curselection()\n",
    "        task = task_listbox.get(selected_task_index)\n",
    "        task_listbox.delete(selected_task_index)  # Remove the task from the list\n",
    "        task_listbox.insert(selected_task_index, task + \" (Completed)\")  # Add back with completed tag\n",
    "    except IndexError:\n",
    "        messagebox.showwarning(\"Selection Error\", \"Please select a task to mark as completed.\")\n",
    "\n",
    "# Create the main window\n",
    "root = tk.Tk()\n",
    "root.title(\"To-Do List Application\")\n",
    "root.geometry(\"400x400\")\n",
    "\n",
    "# Create a Listbox widget to display tasks\n",
    "task_listbox = tk.Listbox(root, height=10, width=50, selectmode=tk.SINGLE)\n",
    "task_listbox.pack(pady=20)\n",
    "\n",
    "# Create an input field to enter new tasks\n",
    "task_input = tk.Entry(root, width=40)\n",
    "task_input.pack(pady=5)\n",
    "\n",
    "# Create buttons for adding, removing, and completing tasks\n",
    "add_button = tk.Button(root, text=\"Add Task\", width=20, command=add_task)\n",
    "add_button.pack(pady=5)\n",
    "\n",
    "remove_button = tk.Button(root, text=\"Remove Task\", width=20, command=remove_task)\n",
    "remove_button.pack(pady=5)\n",
    "\n",
    "complete_button = tk.Button(root, text=\"Mark as Completed\", width=20, command=complete_task)\n",
    "complete_button.pack(pady=5)\n",
    "\n",
    "# Run the Tkinter event loop\n",
    "root.mainloop()"
   ]
  }
 ],
 "metadata": {
  "kernelspec": {
   "display_name": "Python 3 (ipykernel)",
   "language": "python",
   "name": "python3"
  },
  "language_info": {
   "codemirror_mode": {
    "name": "ipython",
    "version": 3
   },
   "file_extension": ".py",
   "mimetype": "text/x-python",
   "name": "python",
   "nbconvert_exporter": "python",
   "pygments_lexer": "ipython3",
   "version": "3.12.4"
  }
 },
 "nbformat": 4,
 "nbformat_minor": 5
}
